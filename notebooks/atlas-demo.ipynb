{
 "cells": [
  {
   "cell_type": "markdown",
   "metadata": {},
   "source": [
    "# Agroclimatic Atlas Demo\n",
    "\n",
    "This notebook simulates a small-scale prototype of a climate indicator dashboard. It uses synthetic data to represent long-term trends and current anomalies in SPI, NDVI, and temperature."
   ]
  },
  {
   "cell_type": "code",
   "execution_count": null,
   "metadata": {},
   "outputs": [],
   "source": [
    "import numpy as np\n",
    "import pandas as pd\n",
    "import matplotlib.pyplot as plt\n",
    "import seaborn as sns\n",
    "sns.set(style='whitegrid')"
   ]
  },
  {
   "cell_type": "markdown",
   "metadata": {},
   "source": [
    "## Simulate 10 Years of Monthly Climate Data"
   ]
  },
  {
   "cell_type": "code",
   "execution_count": null,
   "metadata": {},
   "outputs": [],
   "source": [
    "dates = pd.date_range(start='2014-01-01', end='2024-01-01', freq='M')\n",
    "ndvi = np.random.normal(0.6, 0.08, len(dates))\n",
    "temp = np.random.normal(25, 2, len(dates)) + np.linspace(0, 1, len(dates))  # trend\n",
    "rainfall = np.random.gamma(2.0, 25.0, len(dates))\n",
    "\n",
    "df = pd.DataFrame({\n",
    "    'date': dates,\n",
    "    'ndvi': ndvi,\n",
    "    'temperature': temp,\n",
    "    'rainfall': rainfall\n",
    "}).set_index('date')"
   ]
  },
  {
   "cell_type": "markdown",
   "metadata": {},
   "source": [
    "## Visualize Indicators"
   ]
  },
  {
   "cell_type": "code",
   "execution_count": null,
   "metadata": {},
   "outputs": [],
   "source": [
    "fig, axs = plt.subplots(3, 1, figsize=(12, 8), sharex=True)\n",
    "\n",
    "df['ndvi'].plot(ax=axs[0], color='green', label='NDVI')\n",
    "axs[0].set_ylabel('NDVI')\n",
    "axs[0].legend()\n",
    "\n",
    "df['temperature'].plot(ax=axs[1], color='red', label='Temperature (°C)')\n",
    "axs[1].set_ylabel('Temp')\n",
    "axs[1].legend()\n",
    "\n",
    "df['rainfall'].plot(ax=axs[2], color='blue', label='Rainfall (mm)')\n",
    "axs[2].set_ylabel('Rainfall')\n",
    "axs[2].legend()\n",
    "\n",
    "plt.suptitle('Climate Indicators — Synthetic Mockup')\n",
    "plt.tight_layout()\n",
    "plt.show()"
   ]
  }
 ],
 "metadata": {
  "kernelspec": {
   "display_name": "Python 3",
   "language": "python",
   "name": "python3"
  },
  "language_info": {
   "name": "python",
   "version": "3.9"
  }
 },
 "nbformat": 4,
 "nbformat_minor": 2
}
