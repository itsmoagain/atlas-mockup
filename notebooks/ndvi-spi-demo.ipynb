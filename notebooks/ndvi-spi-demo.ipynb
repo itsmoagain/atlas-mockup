{
 "cells": [
  {
   "cell_type": "markdown",
   "metadata": {},
   "source": [
    "# NDVI & SPI Anomaly Detection Demo\n",
    "\n",
    "This notebook demonstrates how to calculate NDVI and SPI anomalies using synthetic or sample data. It illustrates the logic that could be modularized for reproducibility-focused scientific software validation."
   ]
  },
  {
   "cell_type": "code",
   "execution_count": null,
   "metadata": {},
   "outputs": [],
   "source": [
    "# 📦 Import libraries\n",
    "import numpy as np\n",
    "import pandas as pd\n",
    "import matplotlib.pyplot as plt\n",
    "from scipy.stats import norm\n",
    "import warnings\n",
    "warnings.filterwarnings('ignore')"
   ]
  },
  {
   "cell_type": "markdown",
   "metadata": {},
   "source": [
    "## Generate synthetic NDVI and rainfall data\n",
    "For demo purposes, we simulate 5 years of monthly NDVI and rainfall values to visualize anomalies."
   ]
  },
  {
   "cell_type": "code",
   "execution_count": null,
   "metadata": {},
   "outputs": [],
   "source": [
    "# 📅 Generate fake time series\n",
    "dates = pd.date_range(start='2018-01-01', end='2023-01-01', freq='M')\n",
    "ndvi = np.random.normal(loc=0.6, scale=0.1, size=len(dates))\n",
    "rainfall = np.random.gamma(shape=2.0, scale=20.0, size=len(dates))\n",
    "\n",
    "df = pd.DataFrame({\n",
    "    'date': dates,\n",
    "    'ndvi': ndvi,\n",
    "    'rainfall': rainfall\n",
    "})\n",
    "df.set_index('date', inplace=True)\n",
    "df.head()"
   ]
  }
 ],
 "metadata": {
  "kernelspec": {
   "display_name": "Python 3",
   "language": "python",
   "name": "python3"
  },
  "language_info": {
   "name": "python",
   "version": "3.9"
  }
 },
 "nbformat": 4,
 "nbformat_minor": 2
}
