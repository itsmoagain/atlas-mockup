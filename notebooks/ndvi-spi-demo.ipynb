{
 "cells": [
  {
   "cell_type": "markdown",
   "metadata": {},
   "source": [
    "# NDVI & SPI Anomaly Detection Demo\n",
    "\n",
    "This notebook demonstrates how to calculate NDVI and SPI anomalies using synthetic or sample data. It illustrates the logic that could be modularized for reproducibility-focused scientific software validation."
   ]
  },
  {
   "cell_type": "code",
   "execution_count": null,
   "metadata": {},
   "outputs": [],
   "source": [
    "# 📦 Import libraries\n",
    "import numpy as np\n",
    "import pandas as pd\n",
    "import matplotlib.pyplot as plt\n",
    "from scipy.stats import norm\n",
    "import warnings\n",
    "warnings.filterwarnings('ignore')"
   ]
  },
  {
   "cell_type": "markdown",
   "metadata": {},
   "source": [
    "## Generate synthetic NDVI and rainfall data\n",
    "For demo purposes, we simulate 5 years of monthly NDVI and rainfall values to visualize anomalies."
   ]
  },
  {
   "cell_type": "code",
   "execution_count": null,
   "metadata": {},
   "outputs": [],
   "source": [
    "# 📅 Generate fake time series\n",
    "dates = pd.date_range(start='2018-01-01', end='2023-01-01', freq='M')\n",
    "ndvi = np.random.normal(loc=0.6, scale=0.1, size=len(dates))\n",
    "rainfall = np.random.gamma(shape=2.0, scale=20.0, size=len(dates))\n",
    "\n",
    "df = pd.DataFrame({\n",
    "    'date': dates,\n",
    "    'ndvi': ndvi,\n",
    "    'rainfall': rainfall\n",
    "})\n",
    "df.set_index('date', inplace=True)\n",
    "df.head()"
   ]
  }
 ],   ,
  {
   "cell_type": "markdown",
   "metadata": {},
   "source": [
    "## SPI Calculation (Simplified)\n",
    "We'll standardize rainfall using a rolling z-score as a simple SPI approximation."
   ]
  },
  {
   "cell_type": "code",
   "execution_count": null,
   "metadata": {},
   "outputs": [],
   "source": [
    "# ⚙️ Simplified SPI as rolling z-score of rainfall\n",
    "rolling_mean = df['rainfall'].rolling(window=6, min_periods=3).mean()\n",
    "rolling_std = df['rainfall'].rolling(window=6, min_periods=3).std()\n",
    "\n",
    "df['spi'] = (df['rainfall'] - rolling_mean) / rolling_std\n",
    "df['spi'] = df['spi'].clip(-3, 3)  # clip extreme values\n",
    "df[['rainfall', 'spi']].tail()"
   ]
  },
  {
   "cell_type": "markdown",
   "metadata": {},
   "source": [
    "## NDVI Anomaly Detection\n",
    "We subtract the long-term mean from the current value to detect anomalies."
   ]
  },
  {
   "cell_type": "code",
   "execution_count": null,
   "metadata": {},
   "outputs": [],
   "source": [
    "# 📈 NDVI anomaly = current - long-term average\n",
    "ndvi_mean = df['ndvi'].mean()\n",
    "df['ndvi_anomaly'] = df['ndvi'] - ndvi_mean\n",
    "df[['ndvi', 'ndvi_anomaly']].tail()"
   ]
  }
  ,
  {
   "cell_type": "markdown",
   "metadata": {},
   "source": [
    "## 📊 Visualization of SPI and NDVI Anomalies"
   ]
  },
  {
   "cell_type": "code",
   "execution_count": null,
   "metadata": {},
   "outputs": [],
   "source": [
    "fig, ax = plt.subplots(2, 1, figsize=(12, 6), sharex=True)\n",
    "\n",
    "df['spi'].plot(ax=ax[0], color='blue', label='SPI')\n",
    "ax[0].axhline(y=0, linestyle='--', color='gray')\n",
    "ax[0].set_ylabel('SPI')\n",
    "ax[0].set_title('Standardized Precipitation Index (SPI)')\n",
    "ax[0].legend()\n",
    "\n",
    "df['ndvi_anomaly'].plot(ax=ax[1], color='green', label='NDVI Anomaly')\n",
    "ax[1].axhline(y=0, linestyle='--', color='gray')\n",
    "ax[1].set_ylabel('NDVI Anomaly')\n",
    "ax[1].set_title('NDVI Deviation from Long-Term Mean')\n",
    "ax[1].legend()\n",
    "\n",
    "plt.tight_layout()\n",
    "plt.show()"
   ]
  }

 "metadata": {
  "kernelspec": {
   "display_name": "Python 3",
   "language": "python",
   "name": "python3"
  },
  "language_info": {
   "name": "python",
   "version": "3.9"
  }
 },
 "nbformat": 4,
 "nbformat_minor": 2
}
